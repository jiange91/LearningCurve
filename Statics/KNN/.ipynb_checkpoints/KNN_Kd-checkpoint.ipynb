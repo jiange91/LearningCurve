{
 "cells": [
  {
   "cell_type": "code",
   "execution_count": 1,
   "metadata": {},
   "outputs": [],
   "source": [
    "import numpy as np\n",
    "import time"
   ]
  },
  {
   "cell_type": "code",
   "execution_count": 2,
   "metadata": {},
   "outputs": [],
   "source": [
    "def loadData(fileName):\n",
    "    print('start reading file')\n",
    "\n",
    "    data = np.genfromtxt(fileName, delimiter=',')\n",
    "    Label = data[:,0]\n",
    "    X = data[:,1:]/255\n",
    "    \n",
    "    return X, Label\n",
    "\n",
    "# from sklearn.datasets import make_blobs, make_gaussian_quantiles, make_classification\n",
    "# from matplotlib import pyplot\n",
    "# from pandas import DataFrame\n",
    "\n",
    "# def genData(n_samples, n_classes, n_features):\n",
    "# # generate 2d classification dataset\n",
    "# # X, y = make_blobs(n_samples=100, centers=3, n_features=2)\n",
    "# # X, y = make_gaussian_quantiles(n_samples=1000, n_features=2, n_classes=3)\n",
    "#     X, y = make_classification(n_features=n_features, n_redundant=0, n_informative=2,\n",
    "#                                  n_clusters_per_class=1, n_classes=n_classes, n_samples=n_samples)\n",
    "\n",
    "#     # scatter plot, dots colored by class value\n",
    "#     df = DataFrame(dict(x=X[:,0], y=X[:,1], label=y))\n",
    "#     colors = {0:'red', 1:'blue', 2:'green'}\n",
    "#     fig, ax = pyplot.subplots()\n",
    "#     grouped = df.groupby('label')\n",
    "#     for key, group in grouped:\n",
    "#         group.plot(ax=ax, kind='scatter', x='x', y='y', label=key, color=colors[key])\n",
    "#     pyplot.show()\n",
    "    \n",
    "#     data_X = np.array(X)\n",
    "#     Label = np.array(y)\n",
    "    \n",
    "#     m, n = data_X.shape\n",
    "#     training_partition = int(m*0.8)\n",
    "#     training_X = data_X[:training_partition, :]\n",
    "#     training_label = Label[:training_partition]\n",
    "#     testing_X = data_X[training_partition:, :]\n",
    "#     testing_label = Label[:training_partition]\n",
    "    \n",
    "#     return training_X, training_label, testing_X, testing_label"
   ]
  },
  {
   "cell_type": "code",
   "execution_count": 3,
   "metadata": {},
   "outputs": [],
   "source": [
    "def dist(x1, x2):\n",
    "    '''\n",
    "    calculate the Euclidean distance of two instance\n",
    "    '''\n",
    "    return np.sqrt(np.sum(np.square(x1 - x2)))\n",
    "\n",
    "    #马哈顿距离计算公式\n",
    "    # return np.sum(x1 - x2)\n"
   ]
  },
  {
   "cell_type": "code",
   "execution_count": 4,
   "metadata": {},
   "outputs": [],
   "source": [
    "def getClosest(trainDataMat, trainLabelMat, x, topK):\n",
    "    '''\n",
    "    预测样本x的标记。\n",
    "    获取方式通过找到与样本x最近的topK个点，并查看它们的标签。\n",
    "    查找里面占某类标签最多的那类标签\n",
    "    （书中3.1 3.2节）\n",
    "    :param trainDataMat:训练集数据集\n",
    "    :param trainLabelMat:训练集标签集\n",
    "    :param x:要预测的样本x\n",
    "    :param topK:选择参考最邻近样本的数目（样本数目的选择关系到正确率，详看3.2.3 K值的选择）\n",
    "    :return:预测的标记\n",
    "    '''\n",
    "    #建立一个存放向量x与每个训练集中样本距离的列表\n",
    "    #列表的长度为训练集的长度，distList[i]表示x与训练集中第\n",
    "    ## i个样本的距离\n",
    "    distList = [0] * len(trainLabelMat)\n",
    "    #遍历训练集中所有的样本点，计算与x的距离\n",
    "    for i in range(len(trainDataMat)):\n",
    "        #获取训练集中当前样本的向量\n",
    "        x1 = trainDataMat[i]\n",
    "        #计算向量x与训练集样本x的距离\n",
    "        curDist = calcDist(x1, x)\n",
    "        #将距离放入对应的列表位置中\n",
    "        distList[i] = curDist\n",
    "\n",
    "    #对距离列表进行排序\n",
    "    #argsort：函数将数组的值从小到大排序后，并按照其相对应的索引值输出\n",
    "    #例如：\n",
    "    #   >>> x = np.array([3, 1, 2])\n",
    "    #   >>> np.argsort(x)\n",
    "    #   array([1, 2, 0])\n",
    "    #返回的是列表中从小到大的元素索引值，对于我们这种需要查找最小距离的情况来说很合适\n",
    "    #array返回的是整个索引值列表，我们通过[:topK]取列表中前topL个放入list中。\n",
    "    #----------------优化点-------------------\n",
    "    #由于我们只取topK小的元素索引值，所以其实不需要对整个列表进行排序，而argsort是对整个\n",
    "    #列表进行排序的，存在时间上的浪费。字典有现成的方法可以只排序top大或top小，可以自行查阅\n",
    "    #对代码进行稍稍修改即可\n",
    "    #这里没有对其进行优化主要原因是KNN的时间耗费大头在计算向量与向量之间的距离上，由于向量高维\n",
    "    #所以计算时间需要很长，所以如果要提升时间，在这里优化的意义不大。（当然不是说就可以不优化了，\n",
    "    #主要是我太懒了）\n",
    "    topKList = np.argsort(np.array(distList))[:topK]        #升序排序\n",
    "    #建立一个长度时的列表，用于选择数量最多的标记\n",
    "    #3.2.4提到了分类决策使用的是投票表决，topK个标记每人有一票，在数组中每个标记代表的位置中投入\n",
    "    #自己对应的地方，随后进行唱票选择最高票的标记\n",
    "    labelList = [0] * 10\n",
    "    #对topK个索引进行遍历\n",
    "    for index in topKList:\n",
    "        #trainLabelMat[index]：在训练集标签中寻找topK元素索引对应的标记\n",
    "        #int(trainLabelMat[index])：将标记转换为int（实际上已经是int了，但是不int的话，报错）\n",
    "        #labelList[int(trainLabelMat[index])]：找到标记在labelList中对应的位置\n",
    "        #最后加1，表示投了一票\n",
    "        labelList[int(trainLabelMat[index])] += 1\n",
    "    #max(labelList)：找到选票箱中票数最多的票数值\n",
    "    #labelList.index(max(labelList))：再根据最大值在列表中找到该值对应的索引，等同于预测的标记\n",
    "    return labelList.index(max(labelList))\n"
   ]
  },
  {
   "cell_type": "code",
   "execution_count": 6,
   "metadata": {},
   "outputs": [],
   "source": [
    "def model_test(trainDataArr, trainLabelArr, testDataArr, testLabelArr, topK):\n",
    "    '''\n",
    "    测试正确率\n",
    "    :param trainDataArr:训练集数据集\n",
    "    :param trainLabelArr: 训练集标记\n",
    "    :param testDataArr: 测试集数据集\n",
    "    :param testLabelArr: 测试集标记\n",
    "    :param topK: 选择多少个邻近点参考\n",
    "    :return: 正确率\n",
    "    '''\n",
    "    print('start test')\n",
    "    #将所有列表转换为矩阵形式，方便运算\n",
    "    trainDataMat = np.matrix(trainDataArr); trainLabelMat = np.matrix(trainLabelArr).T\n",
    "    testDataMat = np.matrix(testDataArr); testLabelMat = np.matrix(testLabelArr).T\n",
    "\n",
    "    #错误值技术\n",
    "    errorCnt = 0\n",
    "    #遍历测试集，对每个测试集样本进行测试\n",
    "    #由于计算向量与向量之间的时间耗费太大，测试集有6000个样本，所以这里人为改成了\n",
    "    #测试200个样本点，如果要全跑，将行注释取消，再下一行for注释即可，同时下面的print\n",
    "    #和return也要相应的更换注释行\n",
    "    # for i in range(len(testDataMat)):\n",
    "    for i in range(200):\n",
    "        # print('test %d:%d'%(i, len(trainDataArr)))\n",
    "        print('test %d:%d' % (i, 200))\n",
    "        #读取测试集当前测试样本的向量\n",
    "        x = testDataMat[i]\n",
    "        #获取预测的标记\n",
    "        y = getClosest(trainDataMat, trainLabelMat, x, topK)\n",
    "        #如果预测标记与实际标记不符，错误值计数加1\n",
    "        if y != testLabelMat[i]: errorCnt += 1\n",
    "\n",
    "    #返回正确率\n",
    "    # return 1 - (errorCnt / len(testDataMat))\n",
    "    return 1 - (errorCnt / len(testDataMat))\n"
   ]
  },
  {
   "cell_type": "code",
   "execution_count": 4,
   "metadata": {},
   "outputs": [],
   "source": [
    "from sklearn.neighbors import NearestNeighbors\n",
    "from sklearn.neighbors import KDTree\n",
    "\n",
    "def labelVotes(arr):\n",
    "    return np.bincount(arr).argmax()\n",
    "\n",
    "def model_validation_kdTree(trainDataArr, trainLabelArr, testDataArr, testLabelArr, topK):\n",
    "    print('start testing')\n",
    "    \n",
    "    kdt = KDTree(trainDataArr, leaf_size=30, metric='euclidean')\n",
    "    idx = kdt.query(testDataArr, k=topK, return_distance=False)\n",
    "\n",
    "    y = trainLabelArr[np.apply_along_axis(labelVotes, 1, idx)]\n",
    "    return 1 - (np.sum(y!=testLabelArr) / len(testLabelArr))\n",
    "    \n",
    "# a = np.array([[2,2,3],\n",
    "#               [3,4,4]])\n",
    "\n",
    "# label = np.array([1,2,3,4,5])\n",
    "# b = np.array([0,3,2,1,3])\n",
    "# bc = np.array([0,2,2,1,3])\n",
    "# np.sum(b!=bc)\n",
    "# label[b]\n",
    "# np.apply_along_axis(labelVotes, 1, a)"
   ]
  },
  {
   "cell_type": "code",
   "execution_count": 5,
   "metadata": {},
   "outputs": [
    {
     "name": "stdout",
     "output_type": "stream",
     "text": [
      "start reading file\n",
      "start reading file\n",
      "start testing\n",
      "accur is:91 %\n",
      "time span: 69.62622904777527\n"
     ]
    }
   ],
   "source": [
    "start = time.time()\n",
    "\n",
    "#获取训练集\n",
    "trainDataArr, trainLabelArr = loadData('../../../dataset/mnist_train.csv')\n",
    "#获取测试集\n",
    "testDataArr, testLabelArr = loadData('../../../dataset/mnist_test.csv')\n",
    "\n",
    "# trainDataArr, trainLabelArr, testDataArr, testLabelArr = genData(1000, 3, 2)\n",
    "#计算测试集正确率\n",
    "# accur = model_test(trainDataArr, trainLabelArr, testDataArr, testLabelArr, 20)\n",
    "accur = model_validation_kdTree(trainDataArr, trainLabelArr.T, testDataArr[:200], testLabelArr.T[:200], 20)\n",
    "#打印正确率\n",
    "print('accur is:%d'%(accur * 100), '%')\n",
    "\n",
    "end = time.time()\n",
    "#显示花费时间\n",
    "print('time span:', end - start)\n"
   ]
  },
  {
   "cell_type": "code",
   "execution_count": 15,
   "metadata": {},
   "outputs": [
    {
     "data": {
      "image/png": "[encoded data removed]",
      "text/plain": [
       "<Figure size 432x288 with 1 Axes>"
      ]
     },
     "metadata": {
      "needs_background": "light"
     },
     "output_type": "display_data"
    }
   ],
   "source": [
    "from sklearn.datasets import make_blobs, make_gaussian_quantiles, make_classification\n",
    "from matplotlib import pyplot\n",
    "from pandas import DataFrame\n",
    "# generate 2d classification dataset\n",
    "# X, y = make_blobs(n_samples=100, centers=3, n_features=2)\n",
    "# X, y = make_gaussian_quantiles(n_samples=1000, n_features=2, n_classes=3)\n",
    "X, y = make_classification(n_features=2, n_redundant=0, n_informative=2,\n",
    "                             n_clusters_per_class=1, n_classes=3, n_samples=1000)\n",
    "\n",
    "# scatter plot, dots colored by class value\n",
    "df = DataFrame(dict(x=X[:,0], y=X[:,1], label=y))\n",
    "colors = {0:'red', 1:'blue', 2:'green'}\n",
    "fig, ax = pyplot.subplots()\n",
    "grouped = df.groupby('label')\n",
    "for key, group in grouped:\n",
    "    group.plot(ax=ax, kind='scatter', x='x', y='y', label=key, color=colors[key])\n",
    "pyplot.show()"
   ]
  },
  {
   "cell_type": "code",
   "execution_count": null,
   "metadata": {},
   "outputs": [],
   "source": []
  }
 ],
 "metadata": {
  "kernelspec": {
   "display_name": "Python 3",
   "language": "python",
   "name": "python3"
  },
  "language_info": {
   "codemirror_mode": {
    "name": "ipython",
    "version": 3
   },
   "file_extension": ".py",
   "mimetype": "text/x-python",
   "name": "python",
   "nbconvert_exporter": "python",
   "pygments_lexer": "ipython3",
   "version": "3.7.6"
  }
 },
 "nbformat": 4,
 "nbformat_minor": 4
}
