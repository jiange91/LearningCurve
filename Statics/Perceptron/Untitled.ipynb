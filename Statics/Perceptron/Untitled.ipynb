{
 "cells": [
  {
   "cell_type": "code",
   "execution_count": 34,
   "metadata": {},
   "outputs": [],
   "source": [
    "import numpy as np\n",
    "from sklearn import preprocessing\n",
    "import time"
   ]
  },
  {
   "cell_type": "code",
   "execution_count": 3,
   "metadata": {},
   "outputs": [],
   "source": [
    "data = np.genfromtxt('../Mnist/mnist_train.csv', delimiter=',')"
   ]
  },
  {
   "cell_type": "code",
   "execution_count": 11,
   "metadata": {},
   "outputs": [
    {
     "name": "stdout",
     "output_type": "stream",
     "text": [
      "[5. 0. 4. ... 5. 6. 8.]\n",
      "[ 1 -1 -1 ...  1  1  1]\n"
     ]
    }
   ],
   "source": [
    "print(data[:,0])\n",
    "train_label = np.where(data[:,0] > 4, 1, -1)\n",
    "print(train_label)"
   ]
  },
  {
   "cell_type": "code",
   "execution_count": 29,
   "metadata": {},
   "outputs": [
    {
     "name": "stdout",
     "output_type": "stream",
     "text": [
      "(60000, 784)\n",
      "0.2790270547374771 0.0\n"
     ]
    }
   ],
   "source": [
    "train_feature = data[:,1:]\n",
    "print(train_feature.shape)\n",
    "normalized_train_data = preprocessing.normalize(train_feature)\n",
    "print(normalized_train_data.max(), normalized_train_data.min())"
   ]
  },
  {
   "cell_type": "code",
   "execution_count": 52,
   "metadata": {},
   "outputs": [
    {
     "data": {
      "text/plain": [
       "0.0"
      ]
     },
     "execution_count": 52,
     "metadata": {},
     "output_type": "execute_result"
    }
   ],
   "source": [
    "int_train_X = data[:,1:].astype(int)/255\n",
    "int_train_X.min()"
   ]
  },
  {
   "cell_type": "code",
   "execution_count": 42,
   "metadata": {},
   "outputs": [],
   "source": [
    "def loadData(path):\n",
    "    data = np.genfromtxt(path, delimiter=',')\n",
    "    label = np.where(data[:,0] > 4, 1, -1)\n",
    "    X = data[:,1:]\n",
    "    normalized_X = preprocessing.normalize(X)\n",
    "    return normalized_X, label"
   ]
  },
  {
   "cell_type": "code",
   "execution_count": 43,
   "metadata": {},
   "outputs": [],
   "source": [
    "def perceptron(dataArr, labelArr, iter=50):\n",
    "    '''\n",
    "    感知器训练过程\n",
    "    :param dataArr:训练集的数据 (list)\n",
    "    :param labelArr: 训练集的标签(list)\n",
    "    :param iter: 迭代次数，默认50\n",
    "    :return: 训练好的w和b\n",
    "    '''\n",
    "    print('start to trans')\n",
    "    # 将数据转换成矩阵形式（在机器学习中因为通常都是向量的运算，转换称矩阵形式方便运算）\n",
    "    # 转换后的数据中每一个样本的向量都是横向的\n",
    "    dataMat = np.asmatrix(dataArr)\n",
    "    # 将标签转换成矩阵，之后转置(.T为转置)。\n",
    "    # 转置是因为在运算中需要单独取label中的某一个元素，如果是1xN的矩阵的话，无法用label[i]的方式读取\n",
    "    # 对于只有1xN的label可以不转换成矩阵，直接label[i]即可，这里转换是为了格式上的统一\n",
    "    labelMat = np.asmatrix(labelArr).T\n",
    "    # 获取数据矩阵的大小，为m*n\n",
    "    m, n = np.shape(dataMat)\n",
    "    # 创建初始权重w，初始值全为0。\n",
    "    # np.shape(dataMat)的返回值为m，n -> np.shape(dataMat)[1])的值即为n，与\n",
    "    # 样本长度保持一致\n",
    "    w = np.zeros((1, n))\n",
    "    # 初始化偏置b为0\n",
    "    b = 0\n",
    "    # 初始化步长，也就是梯度下降过程中的n，控制梯度下降速率\n",
    "    h = 0.0001\n",
    "\n",
    "    # 进行iter次迭代计算\n",
    "    for k in range(iter):\n",
    "        # 对于每一个样本进行梯度下降\n",
    "        # 李航书中在2.3.1开头部分使用的梯度下降，是全部样本都算一遍以后，统一\n",
    "        # 进行一次梯度下降\n",
    "        # 在2.3.1的后半部分可以看到（例如公式2.6 2.7），求和符号没有了，此时用\n",
    "        # 的是随机梯度下降，即计算一个样本就针对该样本进行一次梯度下降。\n",
    "        # 两者的差异各有千秋，但较为常用的是随机梯度下降。\n",
    "        for i in range(m):\n",
    "            # 获取当前样本的向量\n",
    "            xi = dataMat[i]\n",
    "            # 获取当前样本所对应的标签\n",
    "            yi = labelMat[i]\n",
    "            # 判断是否是误分类样本\n",
    "            # 误分类样本特诊为： -yi(w*xi+b)>=0，详细可参考书中2.2.2小节\n",
    "            # 在书的公式中写的是>0，实际上如果=0，说明改点在超平面上，也是不正确的\n",
    "            if -1 * yi * (w * xi.T + b) >= 0:\n",
    "                # 对于误分类样本，进行梯度下降，更新w和b\n",
    "                w = w + h * yi * xi\n",
    "                b = b + h * yi\n",
    "        # 打印训练进度\n",
    "        print('Round %d:%d training' % (k, iter))\n",
    "\n",
    "    # 返回训练完的w、b\n",
    "    return w, b\n"
   ]
  },
  {
   "cell_type": "code",
   "execution_count": 44,
   "metadata": {},
   "outputs": [],
   "source": [
    "def model_test(dataArr, labelArr, w, b):\n",
    "    '''\n",
    "    测试准确率\n",
    "    :param dataArr:测试集\n",
    "    :param labelArr: 测试集标签\n",
    "    :param w: 训练获得的权重w\n",
    "    :param b: 训练获得的偏置b\n",
    "    :return: 正确率\n",
    "    '''\n",
    "    print('start to test')\n",
    "    # 将数据集转换为矩阵形式方便运算\n",
    "    dataMat = np.mat(dataArr)\n",
    "    # 将label转换为矩阵并转置，详细信息参考上文perceptron中\n",
    "    # 对于这部分的解说\n",
    "    labelMat = np.mat(labelArr).T\n",
    "\n",
    "    # 获取测试数据集矩阵的大小\n",
    "    m, n = np.shape(dataMat)\n",
    "    # 错误样本数计数\n",
    "    errorCnt = 0\n",
    "    # 遍历所有测试样本\n",
    "    for i in range(m):\n",
    "        # 获得单个样本向量\n",
    "        xi = dataMat[i]\n",
    "        # 获得该样本标记\n",
    "        yi = labelMat[i]\n",
    "        # 获得运算结果\n",
    "        result = -1 * yi * (w * xi.T + b)\n",
    "        # 如果-yi(w*xi+b)>=0，说明该样本被误分类，错误样本数加一\n",
    "        if result >= 0: errorCnt += 1\n",
    "    # 正确率 = 1 - （样本分类错误数 / 样本总数）\n",
    "    accruRate = 1 - (errorCnt / m)\n",
    "    # 返回正确率\n",
    "    return accruRate\n"
   ]
  },
  {
   "cell_type": "code",
   "execution_count": 45,
   "metadata": {},
   "outputs": [
    {
     "name": "stdout",
     "output_type": "stream",
     "text": [
      "start to trans\n",
      "Round 0:30 training\n",
      "Round 1:30 training\n",
      "Round 2:30 training\n",
      "Round 3:30 training\n",
      "Round 4:30 training\n",
      "Round 5:30 training\n",
      "Round 6:30 training\n",
      "Round 7:30 training\n",
      "Round 8:30 training\n",
      "Round 9:30 training\n",
      "Round 10:30 training\n",
      "Round 11:30 training\n",
      "Round 12:30 training\n",
      "Round 13:30 training\n",
      "Round 14:30 training\n",
      "Round 15:30 training\n",
      "Round 16:30 training\n",
      "Round 17:30 training\n",
      "Round 18:30 training\n",
      "Round 19:30 training\n",
      "Round 20:30 training\n",
      "Round 21:30 training\n",
      "Round 22:30 training\n",
      "Round 23:30 training\n",
      "Round 24:30 training\n",
      "Round 25:30 training\n",
      "Round 26:30 training\n",
      "Round 27:30 training\n",
      "Round 28:30 training\n",
      "Round 29:30 training\n",
      "start to test\n",
      "accuracy rate is: 0.7819\n",
      "time span: 91.78839111328125\n"
     ]
    }
   ],
   "source": [
    "# 获取当前时间\n",
    "# 在文末同样获取当前时间，两时间差即为程序运行时间\n",
    "start = time.time()\n",
    "\n",
    "# 获取训练集及标签\n",
    "trainData, trainLabel = loadData('../Mnist/mnist_train.csv')\n",
    "# 获取测试集及标签\n",
    "testData, testLabel = loadData('../Mnist/mnist_test.csv')\n",
    "\n",
    "# 训练获得权重\n",
    "w, b = perceptron(trainData, trainLabel, iter=30)\n",
    "# 进行测试，获得正确率\n",
    "accruRate = model_test(testData, testLabel, w, b)\n",
    "\n",
    "# 获取当前时间，作为结束时间\n",
    "end = time.time()\n",
    "# 显示正确率\n",
    "print('accuracy rate is:', accruRate)\n",
    "# 显示用时时长\n",
    "print('time span:', end - start)"
   ]
  },
  {
   "cell_type": "code",
   "execution_count": null,
   "metadata": {},
   "outputs": [],
   "source": []
  }
 ],
 "metadata": {
  "kernelspec": {
   "display_name": "Python 3",
   "language": "python",
   "name": "python3"
  },
  "language_info": {
   "codemirror_mode": {
    "name": "ipython",
    "version": 3
   },
   "file_extension": ".py",
   "mimetype": "text/x-python",
   "name": "python",
   "nbconvert_exporter": "python",
   "pygments_lexer": "ipython3",
   "version": "3.7.6"
  }
 },
 "nbformat": 4,
 "nbformat_minor": 4
}
